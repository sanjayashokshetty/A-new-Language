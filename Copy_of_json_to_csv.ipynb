{
  "nbformat": 4,
  "nbformat_minor": 0,
  "metadata": {
    "colab": {
      "name": "Copy of json_to_csv.ipynb",
      "version": "0.3.2",
      "provenance": [],
      "collapsed_sections": [
        "xA795ZzHMZUd"
      ],
      "include_colab_link": true
    },
    "kernelspec": {
      "display_name": "Python 3",
      "language": "python",
      "name": "python3"
    }
  },
  "cells": [
    {
      "cell_type": "markdown",
      "metadata": {
        "id": "view-in-github",
        "colab_type": "text"
      },
      "source": [
        "<a href=\"https://colab.research.google.com/github/sanjayashokshetty/A-new-Language/blob/master/Copy_of_json_to_csv.ipynb\" target=\"_parent\"><img src=\"https://colab.research.google.com/assets/colab-badge.svg\" alt=\"Open In Colab\"/></a>"
      ]
    },
    {
      "metadata": {
        "id": "CILE0rcs-Knz",
        "colab_type": "code",
        "colab": {}
      },
      "cell_type": "code",
      "source": [
        "import warnings\n",
        "warnings.filterwarnings('ignore')\n",
        "import pickle\n",
        "import numpy as np\n",
        "import pandas as pd\n",
        "import json\n",
        "from textblob import TextBlob\n",
        "import nltk\n",
        "# from scipy import spatial\n",
        "# import torch\n",
        "# import spacy\n",
        "# en_nlp = spacy.load('en')"
      ],
      "execution_count": 0,
      "outputs": []
    },
    {
      "metadata": {
        "id": "19HfYUKi-Kn5",
        "colab_type": "text"
      },
      "cell_type": "markdown",
      "source": [
        "## Convert Json to Pandas Dataframe"
      ]
    },
    {
      "metadata": {
        "id": "mD0Gtefjxq1R",
        "colab_type": "code",
        "outputId": "a4cd02eb-c720-42dd-ff65-59b08ef0e042",
        "colab": {
          "base_uri": "https://localhost:8080/",
          "height": 34
        }
      },
      "cell_type": "code",
      "source": [
        "\n",
        "# # Load the Drive helper and mount\n",
        "from google.colab import drive\n",
        "\n",
        "# # This will prompt for authorization.\n",
        "drive.mount('/content/drive')"
      ],
      "execution_count": 60,
      "outputs": [
        {
          "output_type": "stream",
          "text": [
            "Drive already mounted at /content/drive; to attempt to forcibly remount, call drive.mount(\"/content/drive\", force_remount=True).\n"
          ],
          "name": "stdout"
        }
      ]
    },
    {
      "metadata": {
        "id": "a73R_EyQzhhg",
        "colab_type": "code",
        "outputId": "10088f5c-3800-4f80-87d1-1f33099beb58",
        "colab": {
          "base_uri": "https://localhost:8080/",
          "height": 34
        }
      },
      "cell_type": "code",
      "source": [
        "!ls \"/content/drive/My Drive/NLP/data\""
      ],
      "execution_count": 0,
      "outputs": [
        {
          "output_type": "stream",
          "text": [
            "train.csv  valid.csv\n"
          ],
          "name": "stdout"
        }
      ]
    },
    {
      "metadata": {
        "id": "XDlkbspyz6mm",
        "colab_type": "code",
        "cellView": "form",
        "outputId": "9d681694-0ddb-4af2-9448-db64829e98c5",
        "colab": {
          "base_uri": "https://localhost:8080/",
          "height": 51
        }
      },
      "cell_type": "code",
      "source": [
        "#@title\n",
        "!ls drive/My Drive"
      ],
      "execution_count": 0,
      "outputs": [
        {
          "output_type": "stream",
          "text": [
            "ls: cannot access 'drive/My//': No such file or directory\n",
            "ls: cannot access 'Drive': No such file or directory\n"
          ],
          "name": "stdout"
        }
      ]
    },
    {
      "metadata": {
        "id": "7A8C18dU-Kn6",
        "colab_type": "code",
        "colab": {}
      },
      "cell_type": "code",
      "source": [
        "train = pd.read_json(\"data/train-v1.1.json\")"
      ],
      "execution_count": 0,
      "outputs": []
    },
    {
      "metadata": {
        "id": "YzbK2HQE-Kn9",
        "colab_type": "code",
        "colab": {}
      },
      "cell_type": "code",
      "source": [
        "valid = pd.read_json(\"data/dev-v1.1.json\")"
      ],
      "execution_count": 0,
      "outputs": []
    },
    {
      "metadata": {
        "id": "3vx2SOgn-KoA",
        "colab_type": "code",
        "outputId": "05c51dca-029c-4236-abf5-a2980449b0f1",
        "colab": {}
      },
      "cell_type": "code",
      "source": [
        "train.shape, valid.shape"
      ],
      "execution_count": 0,
      "outputs": [
        {
          "output_type": "execute_result",
          "data": {
            "text/plain": [
              "((48, 2), (48, 2))"
            ]
          },
          "metadata": {
            "tags": []
          },
          "execution_count": 12
        }
      ]
    },
    {
      "metadata": {
        "id": "GXT7NN5c-KoK",
        "colab_type": "code",
        "outputId": "1b782bc7-7af2-4e8d-c6fd-29bd3e6b2036",
        "colab": {}
      },
      "cell_type": "code",
      "source": [
        "train.head(3)"
      ],
      "execution_count": 0,
      "outputs": [
        {
          "output_type": "execute_result",
          "data": {
            "text/html": [
              "<div>\n",
              "<style scoped>\n",
              "    .dataframe tbody tr th:only-of-type {\n",
              "        vertical-align: middle;\n",
              "    }\n",
              "\n",
              "    .dataframe tbody tr th {\n",
              "        vertical-align: top;\n",
              "    }\n",
              "\n",
              "    .dataframe thead th {\n",
              "        text-align: right;\n",
              "    }\n",
              "</style>\n",
              "<table border=\"1\" class=\"dataframe\">\n",
              "  <thead>\n",
              "    <tr style=\"text-align: right;\">\n",
              "      <th></th>\n",
              "      <th>data</th>\n",
              "      <th>version</th>\n",
              "    </tr>\n",
              "  </thead>\n",
              "  <tbody>\n",
              "    <tr>\n",
              "      <th>0</th>\n",
              "      <td>{'title': 'Super_Bowl_50', 'paragraphs': [{'co...</td>\n",
              "      <td>1.1</td>\n",
              "    </tr>\n",
              "    <tr>\n",
              "      <th>1</th>\n",
              "      <td>{'title': 'Warsaw', 'paragraphs': [{'context':...</td>\n",
              "      <td>1.1</td>\n",
              "    </tr>\n",
              "    <tr>\n",
              "      <th>2</th>\n",
              "      <td>{'title': 'Normans', 'paragraphs': [{'context'...</td>\n",
              "      <td>1.1</td>\n",
              "    </tr>\n",
              "  </tbody>\n",
              "</table>\n",
              "</div>"
            ],
            "text/plain": [
              "                                                data  version\n",
              "0  {'title': 'Super_Bowl_50', 'paragraphs': [{'co...      1.1\n",
              "1  {'title': 'Warsaw', 'paragraphs': [{'context':...      1.1\n",
              "2  {'title': 'Normans', 'paragraphs': [{'context'...      1.1"
            ]
          },
          "metadata": {
            "tags": []
          },
          "execution_count": 13
        }
      ]
    },
    {
      "metadata": {
        "id": "84HrJU6U-KoP",
        "colab_type": "code",
        "colab": {}
      },
      "cell_type": "code",
      "source": [
        "train.iloc[1,0]['paragraphs'][0]"
      ],
      "execution_count": 0,
      "outputs": []
    },
    {
      "metadata": {
        "id": "gtw1Oqxr-KoU",
        "colab_type": "code",
        "colab": {}
      },
      "cell_type": "code",
      "source": [
        "# valid.iloc[1,0]['paragraphs'][0]"
      ],
      "execution_count": 0,
      "outputs": []
    },
    {
      "metadata": {
        "id": "y7wGoxAu-KoZ",
        "colab_type": "code",
        "colab": {}
      },
      "cell_type": "code",
      "source": [
        "contexts = []\n",
        "questions = []\n",
        "answers_text = []\n",
        "answers_start = []\n",
        "for i in range(train.shape[0]):\n",
        "    topic = train.iloc[i,0]['paragraphs']\n",
        "    for sub_para in topic:\n",
        "        for q_a in sub_para['qas']:\n",
        "            questions.append(q_a['question'])\n",
        "            answers_start.append(q_a['answers'][0]['answer_start'])\n",
        "            answers_text.append(q_a['answers'][0]['text'])\n",
        "            contexts.append(sub_para['context'])   \n",
        "df = pd.DataFrame({\"context\":contexts, \"question\": questions, \"answer_start\": answers_start, \"text\": answers_text})"
      ],
      "execution_count": 0,
      "outputs": []
    },
    {
      "metadata": {
        "id": "CJkHqzP7-Koc",
        "colab_type": "code",
        "outputId": "16180a6f-4611-4438-b8a6-c85d07921cb7",
        "colab": {}
      },
      "cell_type": "code",
      "source": [
        "df.shape"
      ],
      "execution_count": 0,
      "outputs": [
        {
          "output_type": "execute_result",
          "data": {
            "text/plain": [
              "(10570, 4)"
            ]
          },
          "metadata": {
            "tags": []
          },
          "execution_count": 17
        }
      ]
    },
    {
      "metadata": {
        "id": "-W1AaxNN-Kog",
        "colab_type": "code",
        "colab": {}
      },
      "cell_type": "code",
      "source": [
        "df.to_csv(\"data/train.csv\", index = None)"
      ],
      "execution_count": 0,
      "outputs": []
    },
    {
      "metadata": {
        "id": "yeTuc8J4-Kol",
        "colab_type": "text"
      },
      "cell_type": "markdown",
      "source": [
        "## Train  a word2vec model\n"
      ]
    },
    {
      "metadata": {
        "id": "OpKErN-_2u9A",
        "colab_type": "code",
        "colab": {}
      },
      "cell_type": "code",
      "source": [
        "train_df = pd.read_csv(\"/content/drive/My Drive/NLP/data/trainp.csv\")\n",
        "valid_df = pd.read_csv(\"/content/drive/My Drive/NLP/data/testp.csv\")"
      ],
      "execution_count": 0,
      "outputs": []
    },
    {
      "metadata": {
        "id": "CsHdOPmm-Kom",
        "colab_type": "code",
        "colab": {}
      },
      "cell_type": "code",
      "source": [
        "paras = list(train_df[\"pcontext\"].drop_duplicates().reset_index(drop= True))"
      ],
      "execution_count": 0,
      "outputs": []
    },
    {
      "metadata": {
        "id": "SWM_OoMY3eVE",
        "colab_type": "code",
        "colab": {}
      },
      "cell_type": "code",
      "source": [
        "paras=paras+list(valid_df[\"pcontext\"].drop_duplicates().reset_index(drop= True))"
      ],
      "execution_count": 0,
      "outputs": []
    },
    {
      "metadata": {
        "id": "2refhj8X28Ae",
        "colab_type": "code",
        "colab": {}
      },
      "cell_type": "code",
      "source": [
        ""
      ],
      "execution_count": 0,
      "outputs": []
    },
    {
      "metadata": {
        "colab_type": "code",
        "outputId": "cf67ac42-4b21-4e58-8589-1bdf6da2b8b6",
        "id": "XCg9RdsWhjMB",
        "colab": {
          "base_uri": "https://localhost:8080/",
          "height": 34
        }
      },
      "cell_type": "code",
      "source": [
        "len(paras)"
      ],
      "execution_count": 0,
      "outputs": [
        {
          "output_type": "execute_result",
          "data": {
            "text/plain": [
              "119124"
            ]
          },
          "metadata": {
            "tags": []
          },
          "execution_count": 45
        }
      ]
    },
    {
      "metadata": {
        "colab_type": "code",
        "id": "z6PzfwKxhuMK",
        "colab": {}
      },
      "cell_type": "code",
      "source": [
        "paras_raw = \" \".join(paras)"
      ],
      "execution_count": 0,
      "outputs": []
    },
    {
      "metadata": {
        "colab_type": "code",
        "outputId": "fd698cb8-a9a6-44c4-f448-82586ae55702",
        "id": "jHbuQLNPijiK",
        "colab": {
          "base_uri": "https://localhost:8080/",
          "height": 34
        }
      },
      "cell_type": "code",
      "source": [
        "len(paras_raw)"
      ],
      "execution_count": 0,
      "outputs": [
        {
          "output_type": "execute_result",
          "data": {
            "text/plain": [
              "15244989"
            ]
          },
          "metadata": {
            "tags": []
          },
          "execution_count": 9
        }
      ]
    },
    {
      "metadata": {
        "colab_type": "code",
        "outputId": "81b3f4b4-6c75-41e0-bc64-fdec10e45741",
        "id": "LI3HUtOEiiio",
        "colab": {
          "base_uri": "https://localhost:8080/",
          "height": 102
        }
      },
      "cell_type": "code",
      "source": [
        "nltk.download('stopwords')\n",
        "nltk.download('punkt')"
      ],
      "execution_count": 0,
      "outputs": [
        {
          "output_type": "stream",
          "text": [
            "[nltk_data] Downloading package stopwords to /root/nltk_data...\n",
            "[nltk_data]   Package stopwords is already up-to-date!\n",
            "[nltk_data] Downloading package punkt to /root/nltk_data...\n",
            "[nltk_data]   Unzipping tokenizers/punkt.zip.\n"
          ],
          "name": "stdout"
        },
        {
          "output_type": "execute_result",
          "data": {
            "text/plain": [
              "True"
            ]
          },
          "metadata": {
            "tags": []
          },
          "execution_count": 17
        }
      ]
    },
    {
      "metadata": {
        "colab_type": "code",
        "id": "0-Aa9LVthhm8",
        "colab": {}
      },
      "cell_type": "code",
      "source": [
        "sentences=paras_raw.split(\".\")"
      ],
      "execution_count": 0,
      "outputs": []
    },
    {
      "metadata": {
        "colab_type": "code",
        "id": "w865znF5hg23",
        "colab": {}
      },
      "cell_type": "code",
      "source": [
        "from nltk.tokenize import word_tokenize \n",
        "filtered_sentence=[[word_tokenize(sentences[i])] for i in range(len(sentences))]"
      ],
      "execution_count": 0,
      "outputs": []
    },
    {
      "metadata": {
        "colab_type": "code",
        "outputId": "500a618c-91e8-481c-b213-426ed4499d3b",
        "id": "VU6TGxfKhgFO",
        "colab": {
          "base_uri": "https://localhost:8080/",
          "height": 170
        }
      },
      "cell_type": "code",
      "source": [
        "filtered_sentence[1]"
      ],
      "execution_count": 0,
      "outputs": [
        {
          "output_type": "execute_result",
          "data": {
            "text/plain": [
              "[['Atop',\n",
              "  'Main',\n",
              "  'Buildings',\n",
              "  'gold',\n",
              "  'dome',\n",
              "  'golden',\n",
              "  'statue',\n",
              "  'Virgin',\n",
              "  'Mary']]"
            ]
          },
          "metadata": {
            "tags": []
          },
          "execution_count": 54
        }
      ]
    },
    {
      "metadata": {
        "id": "hRKFkNG4F8Mk",
        "colab_type": "code",
        "outputId": "479685fc-ea7a-44d9-9eba-003a52559517",
        "colab": {
          "base_uri": "https://localhost:8080/",
          "height": 34
        }
      },
      "cell_type": "code",
      "source": [
        "from gensim.models import Word2Vec\n",
        "model = Word2Vec(paras, min_count=1,seed=123)\n",
        "print(model)\n"
      ],
      "execution_count": 0,
      "outputs": [
        {
          "output_type": "stream",
          "text": [
            "Word2Vec(vocab=1412, size=100, alpha=0.025)\n"
          ],
          "name": "stdout"
        }
      ]
    },
    {
      "metadata": {
        "id": "5wqvt4ThHWNz",
        "colab_type": "code",
        "colab": {}
      },
      "cell_type": "code",
      "source": [
        "model.save('drive/My Drive/NLP/wordvec/word2vec.bin')"
      ],
      "execution_count": 0,
      "outputs": []
    },
    {
      "metadata": {
        "id": "uWOS6yRelGpq",
        "colab_type": "code",
        "colab": {
          "base_uri": "https://localhost:8080/",
          "height": 34
        },
        "outputId": "adf756c4-cfa9-4d65-a775-e523ad0af269"
      },
      "cell_type": "code",
      "source": [
        "model"
      ],
      "execution_count": 59,
      "outputs": [
        {
          "output_type": "execute_result",
          "data": {
            "text/plain": [
              "<gensim.models.word2vec.Word2Vec at 0x7feec257ff28>"
            ]
          },
          "metadata": {
            "tags": []
          },
          "execution_count": 59
        }
      ]
    },
    {
      "metadata": {
        "id": "_Va4pk_zMjvK",
        "colab_type": "text"
      },
      "cell_type": "markdown",
      "source": [
        ""
      ]
    },
    {
      "metadata": {
        "id": "xA795ZzHMZUd",
        "colab_type": "text"
      },
      "cell_type": "markdown",
      "source": [
        "## Redundant to be removed later\n"
      ]
    },
    {
      "metadata": {
        "id": "apuQieRz5vWK",
        "colab_type": "code",
        "colab": {}
      },
      "cell_type": "code",
      "source": [
        "from nltk.corpus import stopwords\n",
        "from __future__ import print_function\n",
        "def create_corpus(corpus):\n",
        "    corpus_out=[]\n",
        "    sw=stopwords.words('english')\n",
        "    count=1\n",
        "    new_reviews=[]\n",
        "    for review in corpus:\n",
        "        review_sents=review.split(\".\")\n",
        "        new_review_sent=[]\n",
        "        for sent in review_sents:\n",
        "            temp=sent.split(\" \")\n",
        "            for word in temp:\n",
        "                if word=='' or word==' ' or word in sw:\n",
        "                    temp.remove(word)\n",
        "            new_review_sent+=temp\n",
        "            corpus_out.append(temp)\n",
        "        new_reviews.append(new_review_sent)\n",
        "        s=str(count)+'/'+str(len(corpus))+' done!'\n",
        "        if count%1==0:\n",
        "          print(s,end='\\r')\n",
        "        count+=1\n",
        "    return corpus_out,new_reviews\n"
      ],
      "execution_count": 0,
      "outputs": []
    },
    {
      "metadata": {
        "colab_type": "code",
        "outputId": "859b1d72-8542-4931-d55e-d57a7c367525",
        "id": "rr-lBIIo5QuY",
        "colab": {}
      },
      "cell_type": "code",
      "source": [
        "infersent.build_vocab(sentences, tokenize=True)"
      ],
      "execution_count": 0,
      "outputs": [
        {
          "output_type": "stream",
          "text": [
            "Found 88993(/109718) words with glove vectors\n",
            "Vocab size : 88993\n"
          ],
          "name": "stdout"
        }
      ]
    },
    {
      "metadata": {
        "colab_type": "code",
        "id": "Jq0181s75Prk",
        "colab": {}
      },
      "cell_type": "code",
      "source": [
        "dict_embeddings = {}\n",
        "for i in range(len(sentences)):\n",
        "    print(i)\n",
        "    dict_embeddings[sentences[i]] = infersent.encode([sentences[i]], tokenize=True)"
      ],
      "execution_count": 0,
      "outputs": []
    },
    {
      "metadata": {
        "id": "BmcxgBLQ-KpO",
        "colab_type": "code",
        "colab": {}
      },
      "cell_type": "code",
      "source": [
        "questions = list(df[\"question\"])"
      ],
      "execution_count": 0,
      "outputs": []
    },
    {
      "metadata": {
        "id": "TGp_XbKv-KpS",
        "colab_type": "code",
        "outputId": "d94495a6-cbdd-46ba-c6c1-4b759aabb431",
        "colab": {}
      },
      "cell_type": "code",
      "source": [
        "len(questions)"
      ],
      "execution_count": 0,
      "outputs": [
        {
          "output_type": "execute_result",
          "data": {
            "text/plain": [
              "87599"
            ]
          },
          "metadata": {
            "tags": []
          },
          "execution_count": 23
        }
      ]
    },
    {
      "metadata": {
        "id": "9xOiNVui-KpX",
        "colab_type": "code",
        "colab": {}
      },
      "cell_type": "code",
      "source": [
        "for i in range(len(questions)):\n",
        "    print(i)\n",
        "    dict_embeddings[questions[i]] = infersent.encode([questions[i]], tokenize=True)"
      ],
      "execution_count": 0,
      "outputs": []
    },
    {
      "metadata": {
        "id": "bKaJQMg3-Kpa",
        "colab_type": "code",
        "outputId": "c7f89c7a-579f-43cf-ed99-acf3407ec2f2",
        "colab": {}
      },
      "cell_type": "code",
      "source": [
        "dict_embeddings['Architecturally, the school has a Catholic character.'][0]"
      ],
      "execution_count": 0,
      "outputs": [
        {
          "output_type": "execute_result",
          "data": {
            "text/plain": [
              "array([ 0.05519997,  0.05013141,  0.04787038, ...,  0.00821208,\n",
              "       -0.03642813,  0.04468501], dtype=float32)"
            ]
          },
          "metadata": {
            "tags": []
          },
          "execution_count": 20
        }
      ]
    },
    {
      "metadata": {
        "id": "Z94eIswT-Kpe",
        "colab_type": "code",
        "colab": {}
      },
      "cell_type": "code",
      "source": [
        "d1 = {key:dict_embeddings[key] for i, key in enumerate(dict_embeddings) if i % 2 == 0}\n",
        "d2 = {key:dict_embeddings[key] for i, key in enumerate(dict_embeddings) if i % 2 == 1}"
      ],
      "execution_count": 0,
      "outputs": []
    },
    {
      "metadata": {
        "id": "-Nych8Pf-Kpi",
        "colab_type": "code",
        "colab": {}
      },
      "cell_type": "code",
      "source": [
        "d1"
      ],
      "execution_count": 0,
      "outputs": []
    },
    {
      "metadata": {
        "id": "cg3poy4M-Kpr",
        "colab_type": "code",
        "colab": {}
      },
      "cell_type": "code",
      "source": [
        "d2"
      ],
      "execution_count": 0,
      "outputs": []
    },
    {
      "metadata": {
        "id": "_dX-hWG4-Kpy",
        "colab_type": "code",
        "colab": {}
      },
      "cell_type": "code",
      "source": [
        "with open('data/dict_embeddings1.pickle', 'wb') as handle:\n",
        "    pickle.dump(d1, handle)"
      ],
      "execution_count": 0,
      "outputs": []
    },
    {
      "metadata": {
        "id": "o1iuIc8K-Kp4",
        "colab_type": "code",
        "colab": {}
      },
      "cell_type": "code",
      "source": [
        "with open('data/dict_embeddings2.pickle', 'wb') as handle:\n",
        "    pickle.dump(d2, handle)"
      ],
      "execution_count": 0,
      "outputs": []
    },
    {
      "metadata": {
        "id": "8mEOK2x5-Kp9",
        "colab_type": "code",
        "colab": {}
      },
      "cell_type": "code",
      "source": [
        "del dict_embeddings"
      ],
      "execution_count": 0,
      "outputs": []
    },
    {
      "metadata": {
        "id": "VOgMklr8-Kqa",
        "colab_type": "code",
        "outputId": "b2b7fd7c-b6cd-4216-bf97-6f6fc933b0a7",
        "colab": {
          "base_uri": "https://localhost:8080/",
          "height": 34
        }
      },
      "cell_type": "code",
      "source": [
        "%reset"
      ],
      "execution_count": 0,
      "outputs": [
        {
          "output_type": "stream",
          "text": [
            "Once deleted, variables cannot be recovered. Proceed (y/[n])? y\n"
          ],
          "name": "stdout"
        }
      ]
    },
    {
      "metadata": {
        "id": "vMoMIzuiOMve",
        "colab_type": "code",
        "colab": {}
      },
      "cell_type": "code",
      "source": [
        ""
      ],
      "execution_count": 0,
      "outputs": []
    }
  ]
}